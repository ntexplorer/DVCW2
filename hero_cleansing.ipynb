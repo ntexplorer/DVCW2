{
 "cells": [
  {
   "cell_type": "code",
   "execution_count": 244,
   "metadata": {
    "collapsed": true
   },
   "outputs": [],
   "source": [
    "import pandas as pd\n",
    "import os"
   ]
  },
  {
   "cell_type": "code",
   "execution_count": 245,
   "outputs": [],
   "source": [
    "damage_df = pd.read_csv(\"original_dataset/hero_damage.csv\")\n",
    "kda_df = pd.read_csv(\"original_dataset/hero_kda.csv\")\n",
    "xp_gold_df = pd.read_csv(\"original_dataset/hero_xp_gold.csv\")\n",
    "id_df = pd.read_csv(\"original_dataset/hero_id.csv\")\n",
    "ban_pick_df = pd.read_csv(\"original_dataset/hero_banpick.csv\")\n"
   ],
   "metadata": {
    "collapsed": false,
    "pycharm": {
     "name": "#%%\n"
    }
   }
  },
  {
   "cell_type": "code",
   "execution_count": 246,
   "outputs": [
    {
     "name": "stdout",
     "output_type": "stream",
     "text": [
      "<class 'pandas.core.frame.DataFrame'>\n",
      "RangeIndex: 117 entries, 0 to 116\n",
      "Data columns (total 17 columns):\n",
      " #   Column               Non-Null Count  Dtype  \n",
      "---  ------               --------------  -----  \n",
      " 0   localized_name       117 non-null    object \n",
      " 1   AVG Damage Received  117 non-null    float64\n",
      " 2   count                117 non-null    int64  \n",
      " 3   winrate              117 non-null    float64\n",
      " 4   winrate_wilson       117 non-null    float64\n",
      " 5   sum                  117 non-null    int64  \n",
      " 6   min                  117 non-null    int64  \n",
      " 7   max                  117 non-null    int64  \n",
      " 8   stddev               117 non-null    float64\n",
      " 9   AVG Damage Dealt     117 non-null    float64\n",
      " 10  count.1              117 non-null    int64  \n",
      " 11  winrate.1            117 non-null    float64\n",
      " 12  winrate_wilson.1     117 non-null    float64\n",
      " 13  sum.1                117 non-null    int64  \n",
      " 14  min.1                117 non-null    int64  \n",
      " 15  max.1                117 non-null    int64  \n",
      " 16  stddev.1             117 non-null    float64\n",
      "dtypes: float64(8), int64(8), object(1)\n",
      "memory usage: 15.7+ KB\n",
      "<class 'pandas.core.frame.DataFrame'>\n",
      "RangeIndex: 117 entries, 0 to 116\n",
      "Data columns (total 25 columns):\n",
      " #   Column            Non-Null Count  Dtype  \n",
      "---  ------            --------------  -----  \n",
      " 0   localized_name    117 non-null    object \n",
      " 1   AVG Deaths        117 non-null    float64\n",
      " 2   count             117 non-null    int64  \n",
      " 3   winrate           117 non-null    float64\n",
      " 4   winrate_wilson    117 non-null    float64\n",
      " 5   sum               117 non-null    int64  \n",
      " 6   min_d             117 non-null    int64  \n",
      " 7   max_d             117 non-null    int64  \n",
      " 8   stddev            117 non-null    float64\n",
      " 9   AVG Kills         117 non-null    float64\n",
      " 10  count.1           117 non-null    int64  \n",
      " 11  winrate.1         117 non-null    float64\n",
      " 12  winrate_wilson.1  117 non-null    float64\n",
      " 13  sum.1             117 non-null    int64  \n",
      " 14  min_k             117 non-null    int64  \n",
      " 15  max_k             117 non-null    int64  \n",
      " 16  stddev.1          117 non-null    float64\n",
      " 17  AVG Assists       117 non-null    float64\n",
      " 18  count.2           117 non-null    int64  \n",
      " 19  winrate.2         117 non-null    float64\n",
      " 20  winrate_wilson.2  117 non-null    float64\n",
      " 21  sum.2             117 non-null    int64  \n",
      " 22  min_a             117 non-null    int64  \n",
      " 23  max_a             117 non-null    int64  \n",
      " 24  stddev.2          117 non-null    float64\n",
      "dtypes: float64(12), int64(12), object(1)\n",
      "memory usage: 23.0+ KB\n",
      "<class 'pandas.core.frame.DataFrame'>\n",
      "RangeIndex: 119 entries, 0 to 118\n",
      "Data columns (total 2 columns):\n",
      " #   Column          Non-Null Count  Dtype \n",
      "---  ------          --------------  ----- \n",
      " 0   id              119 non-null    int64 \n",
      " 1   localized_name  119 non-null    object\n",
      "dtypes: int64(1), object(1)\n",
      "memory usage: 2.0+ KB\n",
      "<class 'pandas.core.frame.DataFrame'>\n",
      "RangeIndex: 117 entries, 0 to 116\n",
      "Data columns (total 13 columns):\n",
      " #   Column        Non-Null Count  Dtype  \n",
      "---  ------        --------------  -----  \n",
      " 0   hero_id       117 non-null    int64  \n",
      " 1   total         117 non-null    int64  \n",
      " 2   picks         117 non-null    int64  \n",
      " 3   bans          117 non-null    int64  \n",
      " 4   first_pick    117 non-null    int64  \n",
      " 5   first_ban     117 non-null    int64  \n",
      " 6   second_pick   117 non-null    int64  \n",
      " 7   second_ban    117 non-null    int64  \n",
      " 8   third_pick    117 non-null    int64  \n",
      " 9   third_ban     117 non-null    int64  \n",
      " 10  winrate       117 non-null    float64\n",
      " 11  pick_winrate  117 non-null    float64\n",
      " 12  ban_winrate   112 non-null    float64\n",
      "dtypes: float64(3), int64(10)\n",
      "memory usage: 12.0 KB\n",
      "<class 'pandas.core.frame.DataFrame'>\n",
      "RangeIndex: 117 entries, 0 to 116\n",
      "Data columns (total 17 columns):\n",
      " #   Column            Non-Null Count  Dtype  \n",
      "---  ------            --------------  -----  \n",
      " 0   localized_name    117 non-null    object \n",
      " 1   AVG Gold Per Min  117 non-null    float64\n",
      " 2   count             117 non-null    int64  \n",
      " 3   winrate           117 non-null    float64\n",
      " 4   winrate_wilson    117 non-null    float64\n",
      " 5   sum               117 non-null    int64  \n",
      " 6   min               117 non-null    int64  \n",
      " 7   max               117 non-null    int64  \n",
      " 8   stddev            117 non-null    float64\n",
      " 9   AVG XP Per Min    117 non-null    float64\n",
      " 10  count.1           117 non-null    int64  \n",
      " 11  winrate.1         117 non-null    float64\n",
      " 12  winrate_wilson.1  117 non-null    float64\n",
      " 13  sum.1             117 non-null    int64  \n",
      " 14  min.1             117 non-null    int64  \n",
      " 15  max.1             117 non-null    int64  \n",
      " 16  stddev.1          117 non-null    float64\n",
      "dtypes: float64(8), int64(8), object(1)\n",
      "memory usage: 15.7+ KB\n"
     ]
    }
   ],
   "source": [
    "damage_df.info()\n",
    "kda_df.info()\n",
    "id_df.info()\n",
    "ban_pick_df.info()\n",
    "xp_gold_df.info()"
   ],
   "metadata": {
    "collapsed": false,
    "pycharm": {
     "name": "#%%\n"
    }
   }
  },
  {
   "cell_type": "code",
   "execution_count": 247,
   "outputs": [
    {
     "data": {
      "text/plain": "   hero_id     localized_name\n0       76  Outworld Devourer\n1       77              Lycan\n2       78         Brewmaster\n3       79       Shadow Demon\n4       80         Lone Druid",
      "text/html": "<div>\n<style scoped>\n    .dataframe tbody tr th:only-of-type {\n        vertical-align: middle;\n    }\n\n    .dataframe tbody tr th {\n        vertical-align: top;\n    }\n\n    .dataframe thead th {\n        text-align: right;\n    }\n</style>\n<table border=\"1\" class=\"dataframe\">\n  <thead>\n    <tr style=\"text-align: right;\">\n      <th></th>\n      <th>hero_id</th>\n      <th>localized_name</th>\n    </tr>\n  </thead>\n  <tbody>\n    <tr>\n      <th>0</th>\n      <td>76</td>\n      <td>Outworld Devourer</td>\n    </tr>\n    <tr>\n      <th>1</th>\n      <td>77</td>\n      <td>Lycan</td>\n    </tr>\n    <tr>\n      <th>2</th>\n      <td>78</td>\n      <td>Brewmaster</td>\n    </tr>\n    <tr>\n      <th>3</th>\n      <td>79</td>\n      <td>Shadow Demon</td>\n    </tr>\n    <tr>\n      <th>4</th>\n      <td>80</td>\n      <td>Lone Druid</td>\n    </tr>\n  </tbody>\n</table>\n</div>"
     },
     "execution_count": 247,
     "metadata": {},
     "output_type": "execute_result"
    }
   ],
   "source": [
    "id_df = id_df.rename(columns={'id':'hero_id'})\n",
    "id_df.head()"
   ],
   "metadata": {
    "collapsed": false,
    "pycharm": {
     "name": "#%%\n"
    }
   }
  },
  {
   "cell_type": "code",
   "execution_count": 248,
   "outputs": [
    {
     "data": {
      "text/plain": "   hero_id     localized_name  AVG Deaths  AVG Kills  AVG Assists\n0       76  Outworld Devourer    3.600000   7.166667     6.700000\n1       77              Lycan    3.500000   3.500000     2.500000\n2       78         Brewmaster    3.875000   2.250000     6.750000\n3       79       Shadow Demon    6.694444   2.638889    12.875000\n4       80         Lone Druid    3.454545   3.181818     5.909091",
      "text/html": "<div>\n<style scoped>\n    .dataframe tbody tr th:only-of-type {\n        vertical-align: middle;\n    }\n\n    .dataframe tbody tr th {\n        vertical-align: top;\n    }\n\n    .dataframe thead th {\n        text-align: right;\n    }\n</style>\n<table border=\"1\" class=\"dataframe\">\n  <thead>\n    <tr style=\"text-align: right;\">\n      <th></th>\n      <th>hero_id</th>\n      <th>localized_name</th>\n      <th>AVG Deaths</th>\n      <th>AVG Kills</th>\n      <th>AVG Assists</th>\n    </tr>\n  </thead>\n  <tbody>\n    <tr>\n      <th>0</th>\n      <td>76</td>\n      <td>Outworld Devourer</td>\n      <td>3.600000</td>\n      <td>7.166667</td>\n      <td>6.700000</td>\n    </tr>\n    <tr>\n      <th>1</th>\n      <td>77</td>\n      <td>Lycan</td>\n      <td>3.500000</td>\n      <td>3.500000</td>\n      <td>2.500000</td>\n    </tr>\n    <tr>\n      <th>2</th>\n      <td>78</td>\n      <td>Brewmaster</td>\n      <td>3.875000</td>\n      <td>2.250000</td>\n      <td>6.750000</td>\n    </tr>\n    <tr>\n      <th>3</th>\n      <td>79</td>\n      <td>Shadow Demon</td>\n      <td>6.694444</td>\n      <td>2.638889</td>\n      <td>12.875000</td>\n    </tr>\n    <tr>\n      <th>4</th>\n      <td>80</td>\n      <td>Lone Druid</td>\n      <td>3.454545</td>\n      <td>3.181818</td>\n      <td>5.909091</td>\n    </tr>\n  </tbody>\n</table>\n</div>"
     },
     "execution_count": 248,
     "metadata": {},
     "output_type": "execute_result"
    }
   ],
   "source": [
    "kda_df = kda_df[['localized_name','AVG Deaths','AVG Kills','AVG Assists']]\n",
    "kda_df = pd.merge(left= id_df, right=kda_df, left_on='localized_name', right_on=\"localized_name\", how='right')\n",
    "kda_df.head()"
   ],
   "metadata": {
    "collapsed": false,
    "pycharm": {
     "name": "#%%\n"
    }
   }
  },
  {
   "cell_type": "code",
   "execution_count": 249,
   "outputs": [
    {
     "data": {
      "text/plain": "   hero_id     localized_name  AVG Gold Per Min  AVG XP Per Min\n0       76  Outworld Devourer        584.550000      652.900000\n1       77              Lycan        410.000000      407.000000\n2       78         Brewmaster        365.500000      434.125000\n3       79       Shadow Demon        269.375000      408.006944\n4       80         Lone Druid        515.090909      486.545455",
      "text/html": "<div>\n<style scoped>\n    .dataframe tbody tr th:only-of-type {\n        vertical-align: middle;\n    }\n\n    .dataframe tbody tr th {\n        vertical-align: top;\n    }\n\n    .dataframe thead th {\n        text-align: right;\n    }\n</style>\n<table border=\"1\" class=\"dataframe\">\n  <thead>\n    <tr style=\"text-align: right;\">\n      <th></th>\n      <th>hero_id</th>\n      <th>localized_name</th>\n      <th>AVG Gold Per Min</th>\n      <th>AVG XP Per Min</th>\n    </tr>\n  </thead>\n  <tbody>\n    <tr>\n      <th>0</th>\n      <td>76</td>\n      <td>Outworld Devourer</td>\n      <td>584.550000</td>\n      <td>652.900000</td>\n    </tr>\n    <tr>\n      <th>1</th>\n      <td>77</td>\n      <td>Lycan</td>\n      <td>410.000000</td>\n      <td>407.000000</td>\n    </tr>\n    <tr>\n      <th>2</th>\n      <td>78</td>\n      <td>Brewmaster</td>\n      <td>365.500000</td>\n      <td>434.125000</td>\n    </tr>\n    <tr>\n      <th>3</th>\n      <td>79</td>\n      <td>Shadow Demon</td>\n      <td>269.375000</td>\n      <td>408.006944</td>\n    </tr>\n    <tr>\n      <th>4</th>\n      <td>80</td>\n      <td>Lone Druid</td>\n      <td>515.090909</td>\n      <td>486.545455</td>\n    </tr>\n  </tbody>\n</table>\n</div>"
     },
     "execution_count": 249,
     "metadata": {},
     "output_type": "execute_result"
    }
   ],
   "source": [
    "xp_gold_df = xp_gold_df[['localized_name', 'AVG Gold Per Min', 'AVG XP Per Min']]\n",
    "xp_gold_df = pd.merge(left=id_df, right=xp_gold_df, left_on=\"localized_name\", right_on=\"localized_name\", how=\"right\")\n",
    "xp_gold_df.head()\n"
   ],
   "metadata": {
    "collapsed": false,
    "pycharm": {
     "name": "#%%\n"
    }
   }
  },
  {
   "cell_type": "code",
   "execution_count": 250,
   "outputs": [
    {
     "data": {
      "text/plain": "   hero_id     localized_name  AVG Damage Received  AVG Damage Dealt\n0       76  Outworld Devourer         16114.316667      22079.933333\n1       77              Lycan         13312.500000      10696.500000\n2       78         Brewmaster         14497.250000      11353.125000\n3       79       Shadow Demon         14456.854167       9356.138889\n4       80         Lone Druid         13018.000000      14923.363636",
      "text/html": "<div>\n<style scoped>\n    .dataframe tbody tr th:only-of-type {\n        vertical-align: middle;\n    }\n\n    .dataframe tbody tr th {\n        vertical-align: top;\n    }\n\n    .dataframe thead th {\n        text-align: right;\n    }\n</style>\n<table border=\"1\" class=\"dataframe\">\n  <thead>\n    <tr style=\"text-align: right;\">\n      <th></th>\n      <th>hero_id</th>\n      <th>localized_name</th>\n      <th>AVG Damage Received</th>\n      <th>AVG Damage Dealt</th>\n    </tr>\n  </thead>\n  <tbody>\n    <tr>\n      <th>0</th>\n      <td>76</td>\n      <td>Outworld Devourer</td>\n      <td>16114.316667</td>\n      <td>22079.933333</td>\n    </tr>\n    <tr>\n      <th>1</th>\n      <td>77</td>\n      <td>Lycan</td>\n      <td>13312.500000</td>\n      <td>10696.500000</td>\n    </tr>\n    <tr>\n      <th>2</th>\n      <td>78</td>\n      <td>Brewmaster</td>\n      <td>14497.250000</td>\n      <td>11353.125000</td>\n    </tr>\n    <tr>\n      <th>3</th>\n      <td>79</td>\n      <td>Shadow Demon</td>\n      <td>14456.854167</td>\n      <td>9356.138889</td>\n    </tr>\n    <tr>\n      <th>4</th>\n      <td>80</td>\n      <td>Lone Druid</td>\n      <td>13018.000000</td>\n      <td>14923.363636</td>\n    </tr>\n  </tbody>\n</table>\n</div>"
     },
     "execution_count": 250,
     "metadata": {},
     "output_type": "execute_result"
    }
   ],
   "source": [
    "damage_df = damage_df[['localized_name', 'AVG Damage Received', 'AVG Damage Dealt']]\n",
    "damage_df = pd.merge(left=id_df, right=damage_df, left_on=\"localized_name\", right_on=\"localized_name\", how='right')\n",
    "damage_df.head()\n"
   ],
   "metadata": {
    "collapsed": false,
    "pycharm": {
     "name": "#%%\n"
    }
   }
  },
  {
   "cell_type": "code",
   "execution_count": 251,
   "outputs": [
    {
     "data": {
      "text/plain": "   hero_id     localized_name  total  picks  bans   winrate\n0       76  Outworld Devourer    250     57   193  0.552000\n1       77              Lycan      6      2     4  0.333333\n2       78         Brewmaster     15      8     7  0.333333\n3       79       Shadow Demon    308    141   167  0.529221\n4       80         Lone Druid     43     11    32  0.441860",
      "text/html": "<div>\n<style scoped>\n    .dataframe tbody tr th:only-of-type {\n        vertical-align: middle;\n    }\n\n    .dataframe tbody tr th {\n        vertical-align: top;\n    }\n\n    .dataframe thead th {\n        text-align: right;\n    }\n</style>\n<table border=\"1\" class=\"dataframe\">\n  <thead>\n    <tr style=\"text-align: right;\">\n      <th></th>\n      <th>hero_id</th>\n      <th>localized_name</th>\n      <th>total</th>\n      <th>picks</th>\n      <th>bans</th>\n      <th>winrate</th>\n    </tr>\n  </thead>\n  <tbody>\n    <tr>\n      <th>0</th>\n      <td>76</td>\n      <td>Outworld Devourer</td>\n      <td>250</td>\n      <td>57</td>\n      <td>193</td>\n      <td>0.552000</td>\n    </tr>\n    <tr>\n      <th>1</th>\n      <td>77</td>\n      <td>Lycan</td>\n      <td>6</td>\n      <td>2</td>\n      <td>4</td>\n      <td>0.333333</td>\n    </tr>\n    <tr>\n      <th>2</th>\n      <td>78</td>\n      <td>Brewmaster</td>\n      <td>15</td>\n      <td>8</td>\n      <td>7</td>\n      <td>0.333333</td>\n    </tr>\n    <tr>\n      <th>3</th>\n      <td>79</td>\n      <td>Shadow Demon</td>\n      <td>308</td>\n      <td>141</td>\n      <td>167</td>\n      <td>0.529221</td>\n    </tr>\n    <tr>\n      <th>4</th>\n      <td>80</td>\n      <td>Lone Druid</td>\n      <td>43</td>\n      <td>11</td>\n      <td>32</td>\n      <td>0.441860</td>\n    </tr>\n  </tbody>\n</table>\n</div>"
     },
     "execution_count": 251,
     "metadata": {},
     "output_type": "execute_result"
    }
   ],
   "source": [
    "ban_pick_df = pd.merge(left= id_df, right=ban_pick_df, left_on='hero_id', right_on=\"hero_id\", how='right')\n",
    "ban_pick_df = ban_pick_df.drop(\"first_pick\", axis=1)\n",
    "ban_pick_df = ban_pick_df.drop(\"first_ban\", axis=1)\n",
    "ban_pick_df = ban_pick_df.drop(\"second_pick\", axis=1)\n",
    "ban_pick_df = ban_pick_df.drop(\"second_ban\", axis=1)\n",
    "ban_pick_df = ban_pick_df.drop(\"third_pick\", axis=1)\n",
    "ban_pick_df = ban_pick_df.drop(\"third_ban\", axis=1)\n",
    "ban_pick_df = ban_pick_df.drop(\"pick_winrate\", axis=1)\n",
    "ban_pick_df = ban_pick_df.drop(\"ban_winrate\", axis=1)\n",
    "ban_pick_df.head()\n"
   ],
   "metadata": {
    "collapsed": false,
    "pycharm": {
     "name": "#%%\n"
    }
   }
  },
  {
   "cell_type": "code",
   "execution_count": 252,
   "outputs": [
    {
     "name": "stdout",
     "output_type": "stream",
     "text": [
      "<class 'pandas.core.frame.DataFrame'>\n",
      "Int64Index: 117 entries, 0 to 116\n",
      "Data columns (total 4 columns):\n",
      " #   Column               Non-Null Count  Dtype  \n",
      "---  ------               --------------  -----  \n",
      " 0   hero_id              117 non-null    int64  \n",
      " 1   localized_name       117 non-null    object \n",
      " 2   AVG Damage Received  117 non-null    float64\n",
      " 3   AVG Damage Dealt     117 non-null    float64\n",
      "dtypes: float64(2), int64(1), object(1)\n",
      "memory usage: 4.6+ KB\n",
      "<class 'pandas.core.frame.DataFrame'>\n",
      "Int64Index: 117 entries, 0 to 116\n",
      "Data columns (total 5 columns):\n",
      " #   Column          Non-Null Count  Dtype  \n",
      "---  ------          --------------  -----  \n",
      " 0   hero_id         117 non-null    int64  \n",
      " 1   localized_name  117 non-null    object \n",
      " 2   AVG Deaths      117 non-null    float64\n",
      " 3   AVG Kills       117 non-null    float64\n",
      " 4   AVG Assists     117 non-null    float64\n",
      "dtypes: float64(3), int64(1), object(1)\n",
      "memory usage: 5.5+ KB\n",
      "<class 'pandas.core.frame.DataFrame'>\n",
      "Int64Index: 117 entries, 0 to 116\n",
      "Data columns (total 6 columns):\n",
      " #   Column          Non-Null Count  Dtype  \n",
      "---  ------          --------------  -----  \n",
      " 0   hero_id         117 non-null    int64  \n",
      " 1   localized_name  117 non-null    object \n",
      " 2   total           117 non-null    int64  \n",
      " 3   picks           117 non-null    int64  \n",
      " 4   bans            117 non-null    int64  \n",
      " 5   winrate         117 non-null    float64\n",
      "dtypes: float64(1), int64(4), object(1)\n",
      "memory usage: 6.4+ KB\n",
      "<class 'pandas.core.frame.DataFrame'>\n",
      "Int64Index: 117 entries, 0 to 116\n",
      "Data columns (total 4 columns):\n",
      " #   Column            Non-Null Count  Dtype  \n",
      "---  ------            --------------  -----  \n",
      " 0   hero_id           117 non-null    int64  \n",
      " 1   localized_name    117 non-null    object \n",
      " 2   AVG Gold Per Min  117 non-null    float64\n",
      " 3   AVG XP Per Min    117 non-null    float64\n",
      "dtypes: float64(2), int64(1), object(1)\n",
      "memory usage: 4.6+ KB\n"
     ]
    }
   ],
   "source": [
    "damage_df.info()\n",
    "kda_df.info()\n",
    "ban_pick_df.info()\n",
    "xp_gold_df.info()"
   ],
   "metadata": {
    "collapsed": false,
    "pycharm": {
     "name": "#%%\n"
    }
   }
  },
  {
   "cell_type": "code",
   "execution_count": 253,
   "outputs": [
    {
     "data": {
      "text/plain": "         localized_name  AVG Damage Received  AVG Damage Dealt  AVG Deaths  \\\nhero_id                                                                      \n1             Anti-Mage         14865.769231      21268.423077    2.269231   \n2                   Axe         21260.661017      17809.813559    5.186441   \n3                  Bane         14805.781250       6448.687500    6.718750   \n4           Bloodseeker         29180.833333      33656.000000    4.833333   \n5        Crystal Maiden         14534.808824      15432.147059    7.058824   \n\n         AVG Kills  AVG Assists  AVG Gold Per Min  AVG XP Per Min  total  \\\nhero_id                                                                    \n1         7.384615     7.000000        732.615385      761.730769     61   \n2         6.932203    10.389831        427.644068      515.864407    101   \n3         1.906250    11.593750        237.156250      330.000000     44   \n4         9.666667    12.000000        605.333333      627.666667     14   \n5         3.220588    14.647059        332.529412      405.485294     86   \n\n         picks  bans   winrate  \nhero_id                         \n1           26    35  0.491803  \n2           56    45  0.534653  \n3           31    13  0.545455  \n4            6     8  0.428571  \n5           67    19  0.581395  ",
      "text/html": "<div>\n<style scoped>\n    .dataframe tbody tr th:only-of-type {\n        vertical-align: middle;\n    }\n\n    .dataframe tbody tr th {\n        vertical-align: top;\n    }\n\n    .dataframe thead th {\n        text-align: right;\n    }\n</style>\n<table border=\"1\" class=\"dataframe\">\n  <thead>\n    <tr style=\"text-align: right;\">\n      <th></th>\n      <th>localized_name</th>\n      <th>AVG Damage Received</th>\n      <th>AVG Damage Dealt</th>\n      <th>AVG Deaths</th>\n      <th>AVG Kills</th>\n      <th>AVG Assists</th>\n      <th>AVG Gold Per Min</th>\n      <th>AVG XP Per Min</th>\n      <th>total</th>\n      <th>picks</th>\n      <th>bans</th>\n      <th>winrate</th>\n    </tr>\n    <tr>\n      <th>hero_id</th>\n      <th></th>\n      <th></th>\n      <th></th>\n      <th></th>\n      <th></th>\n      <th></th>\n      <th></th>\n      <th></th>\n      <th></th>\n      <th></th>\n      <th></th>\n      <th></th>\n    </tr>\n  </thead>\n  <tbody>\n    <tr>\n      <th>1</th>\n      <td>Anti-Mage</td>\n      <td>14865.769231</td>\n      <td>21268.423077</td>\n      <td>2.269231</td>\n      <td>7.384615</td>\n      <td>7.000000</td>\n      <td>732.615385</td>\n      <td>761.730769</td>\n      <td>61</td>\n      <td>26</td>\n      <td>35</td>\n      <td>0.491803</td>\n    </tr>\n    <tr>\n      <th>2</th>\n      <td>Axe</td>\n      <td>21260.661017</td>\n      <td>17809.813559</td>\n      <td>5.186441</td>\n      <td>6.932203</td>\n      <td>10.389831</td>\n      <td>427.644068</td>\n      <td>515.864407</td>\n      <td>101</td>\n      <td>56</td>\n      <td>45</td>\n      <td>0.534653</td>\n    </tr>\n    <tr>\n      <th>3</th>\n      <td>Bane</td>\n      <td>14805.781250</td>\n      <td>6448.687500</td>\n      <td>6.718750</td>\n      <td>1.906250</td>\n      <td>11.593750</td>\n      <td>237.156250</td>\n      <td>330.000000</td>\n      <td>44</td>\n      <td>31</td>\n      <td>13</td>\n      <td>0.545455</td>\n    </tr>\n    <tr>\n      <th>4</th>\n      <td>Bloodseeker</td>\n      <td>29180.833333</td>\n      <td>33656.000000</td>\n      <td>4.833333</td>\n      <td>9.666667</td>\n      <td>12.000000</td>\n      <td>605.333333</td>\n      <td>627.666667</td>\n      <td>14</td>\n      <td>6</td>\n      <td>8</td>\n      <td>0.428571</td>\n    </tr>\n    <tr>\n      <th>5</th>\n      <td>Crystal Maiden</td>\n      <td>14534.808824</td>\n      <td>15432.147059</td>\n      <td>7.058824</td>\n      <td>3.220588</td>\n      <td>14.647059</td>\n      <td>332.529412</td>\n      <td>405.485294</td>\n      <td>86</td>\n      <td>67</td>\n      <td>19</td>\n      <td>0.581395</td>\n    </tr>\n  </tbody>\n</table>\n</div>"
     },
     "execution_count": 253,
     "metadata": {},
     "output_type": "execute_result"
    }
   ],
   "source": [
    "merge_1_df = pd.merge(left=damage_df, right=kda_df, left_on=\"hero_id\", right_on=\"hero_id\", how='inner')\n",
    "merge_2_df = pd.merge(left=xp_gold_df, right=ban_pick_df, left_on=\"hero_id\", right_on=\"hero_id\", how='inner')\n",
    "overview_df = pd.merge(left=merge_1_df, right=merge_2_df, left_on=\"hero_id\", right_on=\"hero_id\", how='inner')\n",
    "overview_df = overview_df.drop(\"localized_name_y_x\", axis=1)\n",
    "overview_df = overview_df.drop(\"localized_name_x_y\", axis=1)\n",
    "overview_df = overview_df.drop(\"localized_name_y_y\", axis=1)\n",
    "overview_df = overview_df.rename(columns={'localized_name_x_x':'localized_name'})\n",
    "overview_df = overview_df.sort_values(\"hero_id\", ascending=True)\n",
    "overview_df = overview_df.set_index(\"hero_id\")\n",
    "overview_df.head()"
   ],
   "metadata": {
    "collapsed": false,
    "pycharm": {
     "name": "#%%\n"
    }
   }
  },
  {
   "cell_type": "code",
   "execution_count": 254,
   "outputs": [
    {
     "name": "stdout",
     "output_type": "stream",
     "text": [
      "<class 'pandas.core.frame.DataFrame'>\n",
      "Int64Index: 117 entries, 1 to 129\n",
      "Data columns (total 12 columns):\n",
      " #   Column               Non-Null Count  Dtype  \n",
      "---  ------               --------------  -----  \n",
      " 0   localized_name       117 non-null    object \n",
      " 1   AVG Damage Received  117 non-null    float64\n",
      " 2   AVG Damage Dealt     117 non-null    float64\n",
      " 3   AVG Deaths           117 non-null    float64\n",
      " 4   AVG Kills            117 non-null    float64\n",
      " 5   AVG Assists          117 non-null    float64\n",
      " 6   AVG Gold Per Min     117 non-null    float64\n",
      " 7   AVG XP Per Min       117 non-null    float64\n",
      " 8   total                117 non-null    int64  \n",
      " 9   picks                117 non-null    int64  \n",
      " 10  bans                 117 non-null    int64  \n",
      " 11  winrate              117 non-null    float64\n",
      "dtypes: float64(8), int64(3), object(1)\n",
      "memory usage: 11.9+ KB\n"
     ]
    }
   ],
   "source": [
    "overview_df.info()\n"
   ],
   "metadata": {
    "collapsed": false,
    "pycharm": {
     "name": "#%%\n"
    }
   }
  },
  {
   "cell_type": "code",
   "execution_count": 255,
   "outputs": [
    {
     "name": "stdout",
     "output_type": "stream",
     "text": [
      "<class 'pandas.core.frame.DataFrame'>\n",
      "Int64Index: 117 entries, 1 to 129\n",
      "Data columns (total 13 columns):\n",
      " #   Column               Non-Null Count  Dtype  \n",
      "---  ------               --------------  -----  \n",
      " 0   localized_name       117 non-null    object \n",
      " 1   AVG Damage Received  117 non-null    float64\n",
      " 2   AVG Damage Dealt     117 non-null    float64\n",
      " 3   AVG Deaths           117 non-null    float64\n",
      " 4   AVG Kills            117 non-null    float64\n",
      " 5   AVG Assists          117 non-null    float64\n",
      " 6   AVG Gold Per Min     117 non-null    float64\n",
      " 7   AVG XP Per Min       117 non-null    float64\n",
      " 8   total                117 non-null    int64  \n",
      " 9   picks                117 non-null    int64  \n",
      " 10  bans                 117 non-null    int64  \n",
      " 11  winrate              117 non-null    float64\n",
      " 12  kda                  117 non-null    float64\n",
      "dtypes: float64(9), int64(3), object(1)\n",
      "memory usage: 12.8+ KB\n"
     ]
    }
   ],
   "source": [
    "overview_df['kda'] = (overview_df['AVG Kills']+overview_df['AVG Assists'])/overview_df['AVG Deaths']\n",
    "overview_df.info()"
   ],
   "metadata": {
    "collapsed": false,
    "pycharm": {
     "name": "#%%\n"
    }
   }
  },
  {
   "cell_type": "code",
   "execution_count": 256,
   "outputs": [],
   "source": [
    "overview_df.to_csv('processed_dataset/hero_data.csv',index=True)\n",
    "\n"
   ],
   "metadata": {
    "collapsed": false,
    "pycharm": {
     "name": "#%%\n"
    }
   }
  }
 ],
 "metadata": {
  "kernelspec": {
   "name": "pycharm-a86e27ca",
   "language": "python",
   "display_name": "PyCharm (DVCW2)"
  },
  "language_info": {
   "codemirror_mode": {
    "name": "ipython",
    "version": 2
   },
   "file_extension": ".py",
   "mimetype": "text/x-python",
   "name": "python",
   "nbconvert_exporter": "python",
   "pygments_lexer": "ipython2",
   "version": "2.7.6"
  }
 },
 "nbformat": 4,
 "nbformat_minor": 0
}