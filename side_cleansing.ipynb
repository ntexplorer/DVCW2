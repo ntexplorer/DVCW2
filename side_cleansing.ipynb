{
 "cells": [
  {
   "cell_type": "code",
   "execution_count": 16,
   "metadata": {
    "collapsed": true
   },
   "outputs": [],
   "source": [
    "import pandas as pd"
   ]
  },
  {
   "cell_type": "code",
   "execution_count": 17,
   "outputs": [],
   "source": [
    "side_df = pd.read_csv(\"original_dataset/side.csv\")\n"
   ],
   "metadata": {
    "collapsed": false,
    "pycharm": {
     "name": "#%%\n"
    }
   }
  },
  {
   "cell_type": "code",
   "execution_count": 18,
   "outputs": [
    {
     "name": "stdout",
     "output_type": "stream",
     "text": [
      "<class 'pandas.core.frame.DataFrame'>\n",
      "RangeIndex: 2 entries, 0 to 1\n",
      "Data columns (total 9 columns):\n",
      " #   Column          Non-Null Count  Dtype  \n",
      "---  ------          --------------  -----  \n",
      " 0   is_radiant      2 non-null      bool   \n",
      " 1   AVG Kills       2 non-null      float64\n",
      " 2   count           2 non-null      int64  \n",
      " 3   winrate         2 non-null      float64\n",
      " 4   winrate_wilson  2 non-null      float64\n",
      " 5   sum             2 non-null      int64  \n",
      " 6   min             2 non-null      int64  \n",
      " 7   max             2 non-null      int64  \n",
      " 8   stddev          2 non-null      float64\n",
      "dtypes: bool(1), float64(4), int64(4)\n",
      "memory usage: 258.0 bytes\n"
     ]
    }
   ],
   "source": [
    "side_df.info()"
   ],
   "metadata": {
    "collapsed": false,
    "pycharm": {
     "name": "#%%\n"
    }
   }
  },
  {
   "cell_type": "code",
   "execution_count": 19,
   "outputs": [
    {
     "data": {
      "text/plain": "   is_radiant  AVG Kills  count   winrate  winrate_wilson    sum  min  max  \\\n0       False   4.800434    461  0.511931        0.491521  11065    0   23   \n1        True   4.715835    461  0.488069        0.467700  10870    0   27   \n\n     stddev     Side  \n0  4.022517  Radiant  \n1  3.954651     Dire  ",
      "text/html": "<div>\n<style scoped>\n    .dataframe tbody tr th:only-of-type {\n        vertical-align: middle;\n    }\n\n    .dataframe tbody tr th {\n        vertical-align: top;\n    }\n\n    .dataframe thead th {\n        text-align: right;\n    }\n</style>\n<table border=\"1\" class=\"dataframe\">\n  <thead>\n    <tr style=\"text-align: right;\">\n      <th></th>\n      <th>is_radiant</th>\n      <th>AVG Kills</th>\n      <th>count</th>\n      <th>winrate</th>\n      <th>winrate_wilson</th>\n      <th>sum</th>\n      <th>min</th>\n      <th>max</th>\n      <th>stddev</th>\n      <th>Side</th>\n    </tr>\n  </thead>\n  <tbody>\n    <tr>\n      <th>0</th>\n      <td>False</td>\n      <td>4.800434</td>\n      <td>461</td>\n      <td>0.511931</td>\n      <td>0.491521</td>\n      <td>11065</td>\n      <td>0</td>\n      <td>23</td>\n      <td>4.022517</td>\n      <td>Radiant</td>\n    </tr>\n    <tr>\n      <th>1</th>\n      <td>True</td>\n      <td>4.715835</td>\n      <td>461</td>\n      <td>0.488069</td>\n      <td>0.467700</td>\n      <td>10870</td>\n      <td>0</td>\n      <td>27</td>\n      <td>3.954651</td>\n      <td>Dire</td>\n    </tr>\n  </tbody>\n</table>\n</div>"
     },
     "execution_count": 19,
     "metadata": {},
     "output_type": "execute_result"
    }
   ],
   "source": [
    "side_df['Side'] = ['Radiant', 'Dire']\n",
    "side_df.head()"
   ],
   "metadata": {
    "collapsed": false,
    "pycharm": {
     "name": "#%%\n"
    }
   }
  },
  {
   "cell_type": "code",
   "execution_count": 20,
   "outputs": [],
   "source": [
    "side_df = side_df[['Side','winrate']]\n",
    "side_df.head()\n",
    "\n",
    "side_df.to_csv('processed_dataset/side_data.csv',index=True)"
   ],
   "metadata": {
    "collapsed": false,
    "pycharm": {
     "name": "#%%\n"
    }
   }
  }
 ],
 "metadata": {
  "kernelspec": {
   "name": "pycharm-a86e27ca",
   "language": "python",
   "display_name": "PyCharm (DVCW2)"
  },
  "language_info": {
   "codemirror_mode": {
    "name": "ipython",
    "version": 2
   },
   "file_extension": ".py",
   "mimetype": "text/x-python",
   "name": "python",
   "nbconvert_exporter": "python",
   "pygments_lexer": "ipython2",
   "version": "2.7.6"
  }
 },
 "nbformat": 4,
 "nbformat_minor": 0
}